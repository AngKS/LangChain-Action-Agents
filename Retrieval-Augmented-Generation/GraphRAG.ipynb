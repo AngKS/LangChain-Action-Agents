{
 "cells": [
  {
   "cell_type": "markdown",
   "id": "9dbceea1-23a9-43fb-9fe6-69cbc07fb226",
   "metadata": {},
   "source": [
    "# GraphRAG with Langchain and Neo4j"
   ]
  },
  {
   "cell_type": "code",
   "execution_count": 1,
   "id": "f377165c-2441-42bf-a6b2-64fa67799b9d",
   "metadata": {
    "metadata": {}
   },
   "outputs": [
    {
     "data": {
      "text/plain": [
       "True"
      ]
     },
     "execution_count": 1,
     "metadata": {},
     "output_type": "execute_result"
    }
   ],
   "source": [
    "from langchain_groq import ChatGroq\n",
    "import os\n",
    "from dotenv import load_dotenv\n",
    "\n",
    "load_dotenv()"
   ]
  },
  {
   "cell_type": "markdown",
   "id": "35cdf72e",
   "metadata": {},
   "source": [
    "## Defining Constants (LLM, GraphTransformerLLM, RAG Documents)"
   ]
  },
  {
   "cell_type": "code",
   "execution_count": 2,
   "id": "5054e66c-5566-4ad6-9e38-1d0011a069ee",
   "metadata": {},
   "outputs": [],
   "source": [
    "llm = ChatGroq(\n",
    "    temperature=0.35,\n",
    "    model_name= \"llama3-70b-8192\",\n",
    "    groq_api_key= os.getenv(\"GROQ_API_KEY\")\n",
    ")"
   ]
  },
  {
   "cell_type": "code",
   "execution_count": 3,
   "id": "2b5a2755-9d21-467a-98bc-19127fb90886",
   "metadata": {},
   "outputs": [],
   "source": [
    "from langchain_experimental.graph_transformers import LLMGraphTransformer\n",
    "\n",
    "llm_transformer = LLMGraphTransformer(llm=llm)"
   ]
  },
  {
   "cell_type": "code",
   "execution_count": 4,
   "id": "2bb23b7f-3c07-4180-bad6-f0c6ffd901fe",
   "metadata": {},
   "outputs": [],
   "source": [
    "# transforming documents\n",
    "from langchain_core.documents import Document\n",
    "\n",
    "text = \"\"\"\n",
    "    Mastering the Craft of transforming Data into Engaging Visual Narratives in User Interfaces\n",
    "\n",
    "Whether we notice it or not, we produce and consume vast amounts of data daily. The challenge lies in transforming this abundance of information into meaningful insights that help our private and professional lives.\n",
    "\n",
    "Visual storytelling emerges as the solution, allowing designers and developers to express complex facts effectively and users to easily process them. As data volumes grow, mastering the art of translating data into captivating visual narratives becomes even more important. This article explores data visualisation and ways to present complex data intuitively and attractively within user interfaces.\n",
    "\n",
    "The Essence of Data Visualization\n",
    "Data visualisation entails creating graphic displays to represent data, ranging from scatter plots to histograms. These displays focus on showcasing raw data and simple summaries, sometimes incorporating complex transformations. The primary objective is to interpret these visualisations to extract valuable information.\n",
    "\n",
    "Visualisation serves to convey data to various audiences, including those without technical knowledge, in an easily understandable format. For instance, a transportation department might use visualisations to illustrate traffic patterns or public transit routes to commuters.\n",
    "\n",
    "Besides, graphics unveil data features that statistics and models may overlook, such as unusual distributions, local patterns, and outliers. The primary goal of data visualisation is to empower informed decision-making and to infuse vivid significance into what might otherwise be a dull collection of information.\n",
    "The importance of data visualisation in user interfaces\n",
    "When we speak about data visualisation in user interfaces, we should always bear in mind that whatever data we need to demonstrate, it is always for the sake of making the user experience more enjoyable and less frictionless. Data visualisation in user interfaces is an essential tool that offers many advantages.\n",
    "Visual Perception Advantage\n",
    "Humans are quicker at processing visuals than text. Data visualisation simplifies intricate information into clear insights.\n",
    "Pattern Identification\n",
    "Graphs and charts unveil trends and patterns that may be challenging to identify in raw data, facilitating better-informed decisions.\n",
    "Compelling Narrative\n",
    "Visuals have storytelling capabilities. They construct a narrative that is easily understood and retained, rendering your data memorable and influential.\n",
    "Better User Experience\n",
    "Overall, data visualisation helps in making sure your user has a better experience while interacting with your platform. You're generally trying to make their lives easier and reduce information overload.\n",
    "Informed Decision-Making\n",
    "Helping the user understand the data better, will keep them informed, and will allow them to make better decisions which can boost their businesses and make them more loyal to your platform.\n",
    "\n",
    "The Symbiotic Relationship between Data and Design\n",
    "UI elements can serve as the bridge between users and complex data. Offering intuitive dashboards and interactive visualisations for complex data sets helps to engage users and allows them to get the maximum of insights.\n",
    "\n",
    "Balancing creativity and functionality\n",
    "By striking the right balance, we can effectively communicate ideas, engage the audience, maintain data integrity, and consider the preferences of our target audience. The balance is important as creativity can make visualisations engaging and functionality ensures that the message is communicated effectively without sacrificing clarity.\n",
    "\n",
    "To find the right balance designers should be well informed of their target audience portrait. Consider their level of expertise, familiarity with the subject matter, and specific needs or preferences. This will help you tailor your visualisation to meet their expectations and ensure they can easily understand and interpret the information.\n",
    "\n",
    "Choosing the right format is crucial too. For example, static visualisations are non-interactive and are best for print materials such as reports. On the other hand, interactive visualisations involve the viewer, such as with web-based presentations.\n",
    "\n",
    "Design principles and cognitive science\n",
    "When creating UI it is worth applying both design principles and cognitive science. One of the most common mistakes is overloading users with information. Theories of short-term/working memory, such as George Miller's 7 +- 2 theory, suggest that we store memories as units and storing more than 7 units may overwhelm a user. So when designing an interface try to focus on the most crucial data.\n",
    "\n",
    "Gestalt psychology also offers insights into how users interpret visual interfaces. Learning about human perception helps designers create interfaces that align with users' mental models and expectations.\n",
    "\n",
    "The User-Centric Approach to Data Presentation\n",
    "As we have already mentioned, the success of data visualisations heavily relies on understanding user needs and tasks. Usability factors like efficiency and satisfaction play a vital role. Visualisations should align with specific goals, such as aiding data exploration and decision-making.\n",
    "\n",
    "However, what constitutes a successful visualisation varies among users due to differences in their characteristics and tasks. Thus, before you proceed with the design make sure you have performed a thorough investigation of your audience and their needs.\n",
    "Intuitive Design Principles\n",
    "Steve Jobs, the founder of Apple, stressed the importance of intuitive design and we cannot but agree here. Design is intuitive when users can interact with it effortlessly without even thinking of what should be done to reach their goal. Achieving this requires an understanding of human psychology, particularly how people perceive and navigate their environment.\n",
    "\n",
    "Intuitive design isn't mystical; it stems from past experiences. Our interactions with the physical and cultural world shape our expectations. From infancy, we learn how physical objects behave, while cultural influences like language and symbols further inform our understanding. Over time, actions become intuitive as they become ingrained in our behaviour. Interface design relies on users' familiarity with the physical and cultural environment. Objects that users can manipulate in interfaces mirror physical interactions, while icons and text draw on cultural cues. Users combine their experiences from both realms to understand interface elements and potential actions.\n",
    "\n",
    "The psychology of colour, layout, and typography in data representation.\n",
    "Colour plays a significant role in communication, capable of conveying rich meanings without the need for words. However, striking the right balance with colour is crucial; simplicity is key.\n",
    "\n",
    "\n",
    "\n",
    "\n",
    "\n",
    "Coronavirus coverage as of 3/15/2020. Heatmap by the Center for Systems Science and Engineering (CSSE) at John Hopkins University\n",
    "\n",
    "Overuse of colours can overwhelm, while sticking to a single colour or excessive shades can muddy the data. Consider the association of colours, opting for intuitive choices that aid swift comprehension. For instance, red often signifies heat, while blue conveys cold in temperature-related contexts. How colours are applied also matters significantly. Maintaining consistency across values or accentuating contrasts in the data can aid clarity and comprehension.\n",
    "\n",
    "The text choices greatly impact your visualisation, too. Excessive or poorly organised text can distract, but visuals alone may not suffice. When using text, focus on highlighting crucial details. While our brains prioritise patterns and images, strategic use of text can significantly enhance understanding.\n",
    "\n",
    "When it comes to layout, I would like to stress that humans are naturally inclined to interpret information visually. Our eyes instinctively search for meaningful cues that convey important information instantly. We are adept at recognizing patterns, but if these patterns appear illogical, comprehension becomes challenging.\n",
    "\n",
    "To benefit from natural human behaviours, ensure that the layout and organisation of your data make logical sense to viewers. Whether presenting data numerically, alphabetically, or sequentially, maintain a consistent order that aligns with viewer expectations.\n",
    "Innovations in Data Visualization\n",
    "Advancements in data visualisation are transforming the way we explore and understand data. The appearance of AR, VR and machine learning techniques dramatically changed the industry landscape. Below I listed the most remarkable trends.\n",
    "\n",
    " 1. Multi-Modal Visualisations Combining various visualisation techniques provides a comprehensive view of complex data sets, facilitating a deeper understanding of multifaceted business operations.\n",
    " 2. Time-Series Animations Animated visualisations depict time-series data dynamically, aiding in trend analysis and forecasting.\n",
    " 3. Geospatial Visualization Enhancements Integration of GIS and mapping technologies allows businesses to visualise geographic data, valuable for logistics, retail, and urban planning.\n",
    " 4. NLP in Visualization Natural Language Processing enables users to interact with visualisations using natural language commands, making BI tools more accessible and intuitive.\n",
    " 5. Machine Learning-Driven Visualisations Machine learning algorithms generate dynamic visualisations tailored to user behaviour, enhancing relevance and insights.\n",
    " 6. AR and VR Integration These technologies immerse users in virtual environments, enabling interactive exploration of data in three dimensions, particularly beneficial in industries like architecture and healthcare.\n",
    "\n",
    "As simulation data becomes denser and more complex, exploring data visualisation and communicating scientific concepts to broader audiences could greatly benefit from interactive approaches beyond traditional screen and mouse setups.\n",
    "Case Studies: Success Stories in Visualising Complex Data\n",
    "Now let's explore some inspiring examples of data visualisation. Pew's \"The Next US\" project offers a comprehensive view of demographic data in the United States. It presents a vast, interactive visualisation with multiple chapters, showcasing various aspects such as growing diversity, interracial marriage trends, historical contexts, and projected demographic shifts. One standout feature is an animated age and gender demographic breakdown pyramid, revealing how population demographics have evolved since the 1950s.\n",
    "\n",
    "\n",
    "\n",
    "\n",
    "\n",
    "Visualisation by Pew Research Center\n",
    "\n",
    "Another notable example is Selfiecity, which offers a broad perspective on selfie data worldwide.\n",
    "\n",
    "\n",
    "\n",
    "\n",
    "\n",
    "Visualisation by OFFC\n",
    "\n",
    "The platform provides numerous discoveries of the demographics of selfie-takers, their poses, and their expressions. You can explore the entire collection of 3200 photos through the interactive selfiexploratory.\n",
    "\n",
    "As you can see, when complex data is presented clearly and straightforwardly, we easily grasp the information without feeling overwhelmed. Additionally, the incorporation of interactivity enhances our natural engagement.\n",
    "Wrapping Up\n",
    "In conclusion, I would like to touch on the ethical side of data visualisation. Designers should always bear the responsibility of safeguarding user well-being and privacy, prioritising user welfare over mere aesthetics or functionality.\n",
    "\n",
    "They have to navigate complex ethical dilemmas surrounding user data collection, algorithm transparency, and feature implementation. The most important among these concerns is the protection of user privacy, particularly in light of high-profile scandals like the Cambridge Analytica breach. Thus, ensuring transparency and consent of user data to build trust between users and digital products should always be a number one priority.\n",
    "    \n",
    "\"\"\"\n",
    "\n",
    "documents = [Document(page_content=text)]"
   ]
  },
  {
   "cell_type": "markdown",
   "id": "12f105eb",
   "metadata": {},
   "source": [
    "## Converting & Adding Documents to Neo4j"
   ]
  },
  {
   "cell_type": "code",
   "execution_count": 5,
   "id": "c0244537-cea7-4ce3-8367-53c4a3f8ca60",
   "metadata": {
    "metadata": {}
   },
   "outputs": [
    {
     "name": "stdout",
     "output_type": "stream",
     "text": [
      "Nodes:[Node(id='Data Visualization', type='Concept'), Node(id='User Interfaces', type='Concept'), Node(id='Data', type='Concept'), Node(id='Visual Narratives', type='Concept'), Node(id='Mastering The Craft', type='Concept'), Node(id='Transforming Data', type='Concept'), Node(id='Engaging Visual Narratives', type='Concept')]\n",
      "Relationships:[Relationship(source=Node(id='Data Visualization', type='Concept'), target=Node(id='User Interfaces', type='Concept'), type='RELATED_TO'), Relationship(source=Node(id='Data', type='Concept'), target=Node(id='Data Visualization', type='Concept'), type='USED_IN'), Relationship(source=Node(id='Visual Narratives', type='Concept'), target=Node(id='Engaging Visual Narratives', type='Concept'), type='IS_A'), Relationship(source=Node(id='Mastering The Craft', type='Concept'), target=Node(id='Transforming Data', type='Concept'), type='REQUIRES')]\n"
     ]
    }
   ],
   "source": [
    "graph_doc = llm_transformer.convert_to_graph_documents(documents)\n",
    "print(f\"Nodes:{graph_doc[0].nodes}\")\n",
    "print(f\"Relationships:{graph_doc[0].relationships}\")"
   ]
  },
  {
   "cell_type": "code",
   "execution_count": 6,
   "id": "cb678786",
   "metadata": {
    "metadata": {}
   },
   "outputs": [],
   "source": [
    "from langchain_community.graphs import Neo4jGraph\n",
    "graph = Neo4jGraph()"
   ]
  },
  {
   "cell_type": "code",
   "execution_count": 7,
   "id": "567b1111",
   "metadata": {
    "metadata": {}
   },
   "outputs": [],
   "source": [
    "graph.add_graph_documents(\n",
    "  graph_doc, \n",
    "  baseEntityLabel=True, \n",
    "  include_source=True\n",
    ")"
   ]
  },
  {
   "cell_type": "markdown",
   "id": "9615ed9d",
   "metadata": {},
   "source": [
    "## Visualizing the Graph"
   ]
  },
  {
   "cell_type": "code",
   "execution_count": 8,
   "id": "0c0a2e1a",
   "metadata": {
    "metadata": {}
   },
   "outputs": [
    {
     "data": {
      "application/vnd.jupyter.widget-view+json": {
       "model_id": "1762590dc1264956bce036b5ec38d62c",
       "version_major": 2,
       "version_minor": 0
      },
      "text/plain": [
       "GraphWidget(layout=Layout(height='750px', width='100%'))"
      ]
     },
     "metadata": {},
     "output_type": "display_data"
    }
   ],
   "source": [
    "from yfiles_jupyter_graphs import GraphWidget\n",
    "from neo4j import GraphDatabase\n",
    "\n",
    "# directly show the graph resulting from the given Cypher query\n",
    "default_cypher = \"MATCH (s)-[r:!MENTIONS]->(t) RETURN s,r,t LIMIT 50\"\n",
    "\n",
    "def showGraph(cypher: str = default_cypher):\n",
    "    # create a neo4j session to run queries\n",
    "    driver = GraphDatabase.driver(\n",
    "        uri = os.environ[\"NEO4J_URI\"],\n",
    "        auth = (os.environ[\"NEO4J_USERNAME\"],\n",
    "                os.environ[\"NEO4J_PASSWORD\"]))\n",
    "    session = driver.session()\n",
    "    widget = GraphWidget(graph = session.run(cypher).graph())\n",
    "    widget.node_label_mapping = 'id'\n",
    "    #display(widget)\n",
    "    return widget\n",
    "\n",
    "showGraph()"
   ]
  },
  {
   "cell_type": "markdown",
   "id": "f22a4259",
   "metadata": {},
   "source": [
    "## Querying the Graph"
   ]
  },
  {
   "cell_type": "code",
   "execution_count": 9,
   "id": "fb8a2c48",
   "metadata": {
    "metadata": {}
   },
   "outputs": [],
   "source": [
    "from langchain_community.embeddings import OllamaEmbeddings\n",
    "embeddings = OllamaEmbeddings(\n",
    "    model='nomic-embed-text',\n",
    ")\n"
   ]
  },
  {
   "cell_type": "code",
   "execution_count": 10,
   "id": "e2099d57",
   "metadata": {
    "metadata": {}
   },
   "outputs": [],
   "source": [
    "from langchain_community.vectorstores import Neo4jVector\n",
    "\n",
    "vector_index = Neo4jVector.from_existing_graph(\n",
    "    embeddings,\n",
    "    search_type=\"hybrid\",\n",
    "    node_label=\"Document\",\n",
    "    text_node_properties=[\"text\"],\n",
    "    embedding_node_property=\"embedding\"\n",
    ")\n",
    "\n"
   ]
  },
  {
   "cell_type": "code",
   "execution_count": 11,
   "id": "05656553",
   "metadata": {
    "metadata": {}
   },
   "outputs": [
    {
     "name": "stdout",
     "output_type": "stream",
     "text": [
      "\n",
      "text: \n",
      "    Mastering the Craft of transforming Data into Engaging Visual Narratives in User Interfaces\n",
      "\n",
      "Whether we notice it or not, we produce and consume vast amounts of data daily. The challenge lies in transforming this abundance of information into meaningful insights that help our private and professional lives.\n",
      "\n",
      "Visual storytelling emerges as the solution, allowing designers and developers to express complex facts effectively and users to easily process them. As data volumes grow, mastering the art of translating data into captivating visual narratives becomes even more important. This article explores data visualisation and ways to present complex data intuitively and attractively within user interfaces.\n",
      "\n",
      "The Essence of Data Visualization\n",
      "Data visualisation entails creating graphic displays to represent data, ranging from scatter plots to histograms. These displays focus on showcasing raw data and simple summaries, sometimes incorporating complex transformations. The primary objective is to interpret these visualisations to extract valuable information.\n",
      "\n",
      "Visualisation serves to convey data to various audiences, including those without technical knowledge, in an easily understandable format. For instance, a transportation department might use visualisations to illustrate traffic patterns or public transit routes to commuters.\n",
      "\n",
      "Besides, graphics unveil data features that statistics and models may overlook, such as unusual distributions, local patterns, and outliers. The primary goal of data visualisation is to empower informed decision-making and to infuse vivid significance into what might otherwise be a dull collection of information.\n",
      "The importance of data visualisation in user interfaces\n",
      "When we speak about data visualisation in user interfaces, we should always bear in mind that whatever data we need to demonstrate, it is always for the sake of making the user experience more enjoyable and less frictionless. Data visualisation in user interfaces is an essential tool that offers many advantages.\n",
      "Visual Perception Advantage\n",
      "Humans are quicker at processing visuals than text. Data visualisation simplifies intricate information into clear insights.\n",
      "Pattern Identification\n",
      "Graphs and charts unveil trends and patterns that may be challenging to identify in raw data, facilitating better-informed decisions.\n",
      "Compelling Narrative\n",
      "Visuals have storytelling capabilities. They construct a narrative that is easily understood and retained, rendering your data memorable and influential.\n",
      "Better User Experience\n",
      "Overall, data visualisation helps in making sure your user has a better experience while interacting with your platform. You're generally trying to make their lives easier and reduce information overload.\n",
      "Informed Decision-Making\n",
      "Helping the user understand the data better, will keep them informed, and will allow them to make better decisions which can boost their businesses and make them more loyal to your platform.\n",
      "\n",
      "The Symbiotic Relationship between Data and Design\n",
      "UI elements can serve as the bridge between users and complex data. Offering intuitive dashboards and interactive visualisations for complex data sets helps to engage users and allows them to get the maximum of insights.\n",
      "\n",
      "Balancing creativity and functionality\n",
      "By striking the right balance, we can effectively communicate ideas, engage the audience, maintain data integrity, and consider the preferences of our target audience. The balance is important as creativity can make visualisations engaging and functionality ensures that the message is communicated effectively without sacrificing clarity.\n",
      "\n",
      "To find the right balance designers should be well informed of their target audience portrait. Consider their level of expertise, familiarity with the subject matter, and specific needs or preferences. This will help you tailor your visualisation to meet their expectations and ensure they can easily understand and interpret the information.\n",
      "\n",
      "Choosing the right format is crucial too. For example, static visualisations are non-interactive and are best for print materials such as reports. On the other hand, interactive visualisations involve the viewer, such as with web-based presentations.\n",
      "\n",
      "Design principles and cognitive science\n",
      "When creating UI it is worth applying both design principles and cognitive science. One of the most common mistakes is overloading users with information. Theories of short-term/working memory, such as George Miller's 7 +- 2 theory, suggest that we store memories as units and storing more than 7 units may overwhelm a user. So when designing an interface try to focus on the most crucial data.\n",
      "\n",
      "Gestalt psychology also offers insights into how users interpret visual interfaces. Learning about human perception helps designers create interfaces that align with users' mental models and expectations.\n",
      "\n",
      "The User-Centric Approach to Data Presentation\n",
      "As we have already mentioned, the success of data visualisations heavily relies on understanding user needs and tasks. Usability factors like efficiency and satisfaction play a vital role. Visualisations should align with specific goals, such as aiding data exploration and decision-making.\n",
      "\n",
      "However, what constitutes a successful visualisation varies among users due to differences in their characteristics and tasks. Thus, before you proceed with the design make sure you have performed a thorough investigation of your audience and their needs.\n",
      "Intuitive Design Principles\n",
      "Steve Jobs, the founder of Apple, stressed the importance of intuitive design and we cannot but agree here. Design is intuitive when users can interact with it effortlessly without even thinking of what should be done to reach their goal. Achieving this requires an understanding of human psychology, particularly how people perceive and navigate their environment.\n",
      "\n",
      "Intuitive design isn't mystical; it stems from past experiences. Our interactions with the physical and cultural world shape our expectations. From infancy, we learn how physical objects behave, while cultural influences like language and symbols further inform our understanding. Over time, actions become intuitive as they become ingrained in our behaviour. Interface design relies on users' familiarity with the physical and cultural environment. Objects that users can manipulate in interfaces mirror physical interactions, while icons and text draw on cultural cues. Users combine their experiences from both realms to understand interface elements and potential actions.\n",
      "\n",
      "The psychology of colour, layout, and typography in data representation.\n",
      "Colour plays a significant role in communication, capable of conveying rich meanings without the need for words. However, striking the right balance with colour is crucial; simplicity is key.\n",
      "\n",
      "\n",
      "\n",
      "\n",
      "\n",
      "Coronavirus coverage as of 3/15/2020. Heatmap by the Center for Systems Science and Engineering (CSSE) at John Hopkins University\n",
      "\n",
      "Overuse of colours can overwhelm, while sticking to a single colour or excessive shades can muddy the data. Consider the association of colours, opting for intuitive choices that aid swift comprehension. For instance, red often signifies heat, while blue conveys cold in temperature-related contexts. How colours are applied also matters significantly. Maintaining consistency across values or accentuating contrasts in the data can aid clarity and comprehension.\n",
      "\n",
      "The text choices greatly impact your visualisation, too. Excessive or poorly organised text can distract, but visuals alone may not suffice. When using text, focus on highlighting crucial details. While our brains prioritise patterns and images, strategic use of text can significantly enhance understanding.\n",
      "\n",
      "When it comes to layout, I would like to stress that humans are naturally inclined to interpret information visually. Our eyes instinctively search for meaningful cues that convey important information instantly. We are adept at recognizing patterns, but if these patterns appear illogical, comprehension becomes challenging.\n",
      "\n",
      "To benefit from natural human behaviours, ensure that the layout and organisation of your data make logical sense to viewers. Whether presenting data numerically, alphabetically, or sequentially, maintain a consistent order that aligns with viewer expectations.\n",
      "Innovations in Data Visualization\n",
      "Advancements in data visualisation are transforming the way we explore and understand data. The appearance of AR, VR and machine learning techniques dramatically changed the industry landscape. Below I listed the most remarkable trends.\n",
      "\n",
      " 1. Multi-Modal Visualisations Combining various visualisation techniques provides a comprehensive view of complex data sets, facilitating a deeper understanding of multifaceted business operations.\n",
      " 2. Time-Series Animations Animated visualisations depict time-series data dynamically, aiding in trend analysis and forecasting.\n",
      " 3. Geospatial Visualization Enhancements Integration of GIS and mapping technologies allows businesses to visualise geographic data, valuable for logistics, retail, and urban planning.\n",
      " 4. NLP in Visualization Natural Language Processing enables users to interact with visualisations using natural language commands, making BI tools more accessible and intuitive.\n",
      " 5. Machine Learning-Driven Visualisations Machine learning algorithms generate dynamic visualisations tailored to user behaviour, enhancing relevance and insights.\n",
      " 6. AR and VR Integration These technologies immerse users in virtual environments, enabling interactive exploration of data in three dimensions, particularly beneficial in industries like architecture and healthcare.\n",
      "\n",
      "As simulation data becomes denser and more complex, exploring data visualisation and communicating scientific concepts to broader audiences could greatly benefit from interactive approaches beyond traditional screen and mouse setups.\n",
      "Case Studies: Success Stories in Visualising Complex Data\n",
      "Now let's explore some inspiring examples of data visualisation. Pew's \"The Next US\" project offers a comprehensive view of demographic data in the United States. It presents a vast, interactive visualisation with multiple chapters, showcasing various aspects such as growing diversity, interracial marriage trends, historical contexts, and projected demographic shifts. One standout feature is an animated age and gender demographic breakdown pyramid, revealing how population demographics have evolved since the 1950s.\n",
      "\n",
      "\n",
      "\n",
      "\n",
      "\n",
      "Visualisation by Pew Research Center\n",
      "\n",
      "Another notable example is Selfiecity, which offers a broad perspective on selfie data worldwide.\n",
      "\n",
      "\n",
      "\n",
      "\n",
      "\n",
      "Visualisation by OFFC\n",
      "\n",
      "The platform provides numerous discoveries of the demographics of selfie-takers, their poses, and their expressions. You can explore the entire collection of 3200 photos through the interactive selfiexploratory.\n",
      "\n",
      "As you can see, when complex data is presented clearly and straightforwardly, we easily grasp the information without feeling overwhelmed. Additionally, the incorporation of interactivity enhances our natural engagement.\n",
      "Wrapping Up\n",
      "In conclusion, I would like to touch on the ethical side of data visualisation. Designers should always bear the responsibility of safeguarding user well-being and privacy, prioritising user welfare over mere aesthetics or functionality.\n",
      "\n",
      "They have to navigate complex ethical dilemmas surrounding user data collection, algorithm transparency, and feature implementation. The most important among these concerns is the protection of user privacy, particularly in light of high-profile scandals like the Cambridge Analytica breach. Thus, ensuring transparency and consent of user data to build trust between users and digital products should always be a number one priority.\n",
      "    \n",
      "\n"
     ]
    }
   ],
   "source": [
    "query = \"What is Gestalt psychology?\"\n",
    "\n",
    "results = vector_index.similarity_search(query, k=1)\n",
    "print(results[0].page_content)"
   ]
  },
  {
   "cell_type": "code",
   "execution_count": 12,
   "id": "6848bef7",
   "metadata": {
    "metadata": {}
   },
   "outputs": [
    {
     "name": "stdout",
     "output_type": "stream",
     "text": [
      "\n",
      "\n",
      "\u001b[1m> Entering new GraphCypherQAChain chain...\u001b[0m\n",
      "Generated Cypher:\n",
      "\u001b[32;1m\u001b[1;3mMATCH (d:Document)-[:MENTIONS]->(c:Concept) WHERE d.text CONTAINS \"Gestalt psychology\" RETURN c.id, c;\u001b[0m\n",
      "Full Context:\n",
      "\u001b[32;1m\u001b[1;3m[{'c.id': 'Data Visualization', 'c': {'id': 'Data Visualization'}}, {'c.id': 'User Interface', 'c': {'id': 'User Interface'}}, {'c.id': 'Data', 'c': {'id': 'Data'}}, {'c.id': 'Visual Narrative', 'c': {'id': 'Visual Narrative'}}, {'c.id': 'Mastering The Craft', 'c': {'id': 'Mastering The Craft'}}, {'c.id': 'Transforming Data', 'c': {'id': 'Transforming Data'}}, {'c.id': 'Engaging Visual Narratives', 'c': {'id': 'Engaging Visual Narratives'}}, {'c.id': 'User Interfaces', 'c': {'id': 'User Interfaces'}}, {'c.id': 'Visual Storytelling', 'c': {'id': 'Visual Storytelling'}}, {'c.id': 'Complex Data', 'c': {'id': 'Complex Data'}}]\u001b[0m\n",
      "\n",
      "\u001b[1m> Finished chain.\u001b[0m\n"
     ]
    },
    {
     "data": {
      "text/plain": [
       "{'query': 'What is Gestalt psychology?', 'result': \"I don't know the answer.\"}"
      ]
     },
     "execution_count": 12,
     "metadata": {},
     "output_type": "execute_result"
    }
   ],
   "source": [
    "from langchain.chains import GraphCypherQAChain\n",
    "\n",
    "chain = GraphCypherQAChain.from_llm(graph=graph, llm=llm, verbose=True)\n",
    "response = chain.invoke({\"query\": \"What is Gestalt psychology?\"})\n",
    "response"
   ]
  },
  {
   "cell_type": "code",
   "execution_count": 13,
   "id": "4ba85fa6",
   "metadata": {
    "metadata": {}
   },
   "outputs": [
    {
     "name": "stderr",
     "output_type": "stream",
     "text": [
      "/Users/angks/projects/personal/LangChain-Action-Agents/env/lib/python3.9/site-packages/langchain_core/_api/deprecation.py:119: LangChainDeprecationWarning: The method `Chain.__call__` was deprecated in langchain 0.1.0 and will be removed in 0.2.0. Use invoke instead.\n",
      "  warn_deprecated(\n"
     ]
    },
    {
     "data": {
      "text/plain": [
       "\"Gestalt psychology is a school of psychology that focuses on the organization of visual perception and how people interpret visual information. It emphasizes that the whole is more than the sum of its parts, and that our perception of an object or image is influenced by the relationships between its individual components.\\n\\nIn the context of user interface design, Gestalt psychology offers insights into how users interpret visual interfaces and how designers can create interfaces that align with users' mental models and expectations. This includes principles such as proximity, similarity, continuity, closure, and figure-ground, which can be applied to design intuitive and user-friendly interfaces.\""
      ]
     },
     "execution_count": 13,
     "metadata": {},
     "output_type": "execute_result"
    }
   ],
   "source": [
    "from langchain.chains import RetrievalQA\n",
    "\n",
    "qa_chain = RetrievalQA.from_chain_type(\n",
    "    llm, retriever=vector_index.as_retriever()\n",
    ")\n",
    "\n",
    "result = qa_chain({\"query\": \"What is Gestalt psychology?\"})\n",
    "result[\"result\"]"
   ]
  },
  {
   "cell_type": "code",
   "execution_count": null,
   "id": "5a49540e",
   "metadata": {},
   "outputs": [],
   "source": []
  }
 ],
 "metadata": {
  "kernelspec": {
   "display_name": "Python 3 (ipykernel)",
   "language": "python",
   "name": "python3"
  },
  "language_info": {
   "codemirror_mode": {
    "name": "ipython",
    "version": 3
   },
   "file_extension": ".py",
   "mimetype": "text/x-python",
   "name": "python",
   "nbconvert_exporter": "python",
   "pygments_lexer": "ipython3",
   "version": "3.9.18"
  }
 },
 "nbformat": 4,
 "nbformat_minor": 5
}
